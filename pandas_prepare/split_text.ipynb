{
 "cells": [
  {
   "cell_type": "code",
   "execution_count": 1,
   "metadata": {},
   "outputs": [],
   "source": [
    "\n",
    "with open ('friends_full_[text].txt','r', encoding='utf-8') as f:\n",
    "    text = f.readlines()\n",
    "    \n"
   ]
  },
  {
   "cell_type": "code",
   "execution_count": 2,
   "metadata": {},
   "outputs": [],
   "source": [
    "with open ('friends_full_[text].txt','r', encoding='utf-8') as f:\n",
    "    text1 = f.read()"
   ]
  },
  {
   "cell_type": "code",
   "execution_count": 3,
   "metadata": {},
   "outputs": [],
   "source": [
    "tokens = text1.split()"
   ]
  },
  {
   "cell_type": "code",
   "execution_count": null,
   "metadata": {},
   "outputs": [],
   "source": [
    "len(tokens)"
   ]
  },
  {
   "cell_type": "code",
   "execution_count": null,
   "metadata": {},
   "outputs": [],
   "source": []
  },
  {
   "cell_type": "code",
   "execution_count": null,
   "metadata": {},
   "outputs": [],
   "source": []
  },
  {
   "cell_type": "code",
   "execution_count": null,
   "metadata": {},
   "outputs": [],
   "source": []
  },
  {
   "cell_type": "code",
   "execution_count": 124,
   "metadata": {},
   "outputs": [
    {
     "name": "stdout",
     "output_type": "stream",
     "text": [
      "['[season/0101.html]\\n', '[\\n', '][The One Where Monica Gets a New Roomate (The Pilot-The Uncut Version)\\n', '][\\n', '][\\n', '][The One Where Monica Gets a New Roommate (The Pilot-The Uncut Version)\\n', '][\\n', '][\\n', '][Written by: Marta Kauffman & David Crane Transcribed by: guineapig Additional transcribing by: Eric Aasen (Note: The previously unseen parts of this episode are shown in blue text.)\\n', '][\\n', '][\\n', '][\\n', '][Scene: Central Perk, Chandler, Joey, Phoebe, and Monica are there.]\\n', \"Monica: There's nothing to tell! He's just some guy I work with!\\n\", \"Joey: C'mon, you're going out with the guy! There's gotta be something wrong with him!\\n\", 'Chandler: All right Joey, be nice.\\xa0 So does he have a hump? A hump and a hairpiece?\\n', 'Phoebe: Wait, does he eat chalk?\\n', '(They all stare, bemused.)\\n', \"Phoebe: Just, 'cause, I don't want her to go through what I went through with Carl- oh!\\n\", \"Monica: Okay, everybody relax. This is not even a date. It's just two people going out to dinner and- not having sex.\\n\"]\n"
     ]
    },
    {
     "data": {
      "text/plain": [
       "79569"
      ]
     },
     "execution_count": 124,
     "metadata": {},
     "output_type": "execute_result"
    }
   ],
   "source": [
    "print(text[0:20])\n",
    "len(text)"
   ]
  },
  {
   "cell_type": "code",
   "execution_count": 125,
   "metadata": {},
   "outputs": [
    {
     "name": "stdout",
     "output_type": "stream",
     "text": [
      "1846\n"
     ]
    }
   ],
   "source": [
    "# посмотрим,сколько у нас вообще строк, которые длиннее 220 элементов\n",
    "count = 0\n",
    "for line in text:\n",
    "    if '[' not in line and ']' not in line:\n",
    "        if len(line)>220:\n",
    "            count+=1\n",
    "print(count)\n",
    "# 1846 - не очень много.\n",
    "    "
   ]
  },
  {
   "cell_type": "code",
   "execution_count": 126,
   "metadata": {},
   "outputs": [],
   "source": [
    "#заменим их на пустые строки с квадратными скобками, чтобы они не вошли в итоговые диалоги,\n",
    "#и чтобы (так как мы, получается, выкидываем строку из цельного диалога) они также служили разделителем:       \n",
    "new_text = []\n",
    "for line in text:\n",
    "    if '[' not in line and ']' not in line and len(line)>220:\n",
    "        \n",
    "            new_text.append('[\\n]')\n",
    "    else:\n",
    "        new_text.append(line)\n",
    "            "
   ]
  },
  {
   "cell_type": "code",
   "execution_count": 127,
   "metadata": {},
   "outputs": [
    {
     "name": "stdout",
     "output_type": "stream",
     "text": [
      "['[season/0101.html]\\n', '[\\n', '][The One Where Monica Gets a New Roomate (The Pilot-The Uncut Version)\\n', '][\\n', '][\\n', '][The One Where Monica Gets a New Roommate (The Pilot-The Uncut Version)\\n', '][\\n', '][\\n', '][Written by: Marta Kauffman & David Crane Transcribed by: guineapig Additional transcribing by: Eric Aasen (Note: The previously unseen parts of this episode are shown in blue text.)\\n', '][\\n', '][\\n', '][\\n', '][Scene: Central Perk, Chandler, Joey, Phoebe, and Monica are there.]\\n', \"Monica: There's nothing to tell! He's just some guy I work with!\\n\", \"Joey: C'mon, you're going out with the guy! There's gotta be something wrong with him!\\n\", 'Chandler: All right Joey, be nice.\\xa0 So does he have a hump? A hump and a hairpiece?\\n', 'Phoebe: Wait, does he eat chalk?\\n', '(They all stare, bemused.)\\n', \"Phoebe: Just, 'cause, I don't want her to go through what I went through with Carl- oh!\\n\", \"Monica: Okay, everybody relax. This is not even a date. It's just two people going out to dinner and- not having sex.\\n\"]\n"
     ]
    },
    {
     "data": {
      "text/plain": [
       "79569"
      ]
     },
     "execution_count": 127,
     "metadata": {},
     "output_type": "execute_result"
    }
   ],
   "source": [
    "# смотрим, всё ли нормально\n",
    "print(new_text[0:20])\n",
    "len(new_text)\n",
    "# длина совпадает, всё норм"
   ]
  },
  {
   "cell_type": "code",
   "execution_count": 128,
   "metadata": {},
   "outputs": [
    {
     "name": "stdout",
     "output_type": "stream",
     "text": [
      "0\n"
     ]
    }
   ],
   "source": [
    "# проверяем, не осталось ли случайно длинных строк\n",
    "count = 0\n",
    "for line in new_text:\n",
    "    if '[' not in line and ']' not in line:\n",
    "        if len(line)>220:\n",
    "            count+=1\n",
    "print(count)\n",
    "# нет, не осталось"
   ]
  },
  {
   "cell_type": "code",
   "execution_count": 129,
   "metadata": {},
   "outputs": [],
   "source": [
    "# делим текст по квадратным скобкам\n",
    "dialogs = []\n",
    "dialog = []\n",
    "for line in new_text:\n",
    "    if '[' not in line and ']' not in line:\n",
    "        if line != '\\n':\n",
    "            dialog.append(line)\n",
    "    else:\n",
    "        if len(dialog)>0:\n",
    "            dialogs.append(dialog)\n",
    "            dialog = []\n",
    "            \n",
    "        "
   ]
  },
  {
   "cell_type": "code",
   "execution_count": 130,
   "metadata": {},
   "outputs": [
    {
     "data": {
      "text/plain": [
       "5694"
      ]
     },
     "execution_count": 130,
     "metadata": {},
     "output_type": "execute_result"
    }
   ],
   "source": [
    "len(dialogs) # всего получилось столько кусков"
   ]
  },
  {
   "cell_type": "code",
   "execution_count": 131,
   "metadata": {
    "collapsed": true
   },
   "outputs": [
    {
     "data": {
      "text/plain": [
       "[[\"Monica: There's nothing to tell! He's just some guy I work with!\\n\",\n",
       "  \"Joey: C'mon, you're going out with the guy! There's gotta be something wrong with him!\\n\",\n",
       "  'Chandler: All right Joey, be nice.\\xa0 So does he have a hump? A hump and a hairpiece?\\n',\n",
       "  'Phoebe: Wait, does he eat chalk?\\n',\n",
       "  '(They all stare, bemused.)\\n',\n",
       "  \"Phoebe: Just, 'cause, I don't want her to go through what I went through with Carl- oh!\\n\",\n",
       "  \"Monica: Okay, everybody relax. This is not even a date. It's just two people going out to dinner and- not having sex.\\n\",\n",
       "  'Chandler: Sounds like a date to me.\\n'],\n",
       " [\"Chandler: Alright, so I'm back in high school, I'm standing in the middle of the cafeteria, and I realize I am totally naked.\\n\",\n",
       "  'All: Oh, yeah. Had that dream.\\n',\n",
       "  \"Chandler: Then I look down, and I realize there's a phone... there.\\n\",\n",
       "  'Joey: Instead of...?\\n',\n",
       "  \"Chandler: That's right.\\n\",\n",
       "  'Joey: Never had that dream.\\n',\n",
       "  'Phoebe: No.\\n',\n",
       "  \"Chandler: All of a sudden, the phone starts to ring. Now I don't know what to do, everybody starts looking at me. \\n\",\n",
       "  \"Monica: And they weren't looking at you before?!\\n\",\n",
       "  \"Chandler: Finally, I figure I'd better answer it, and it turns out it's my mother, which is very-very weird, because- she never calls me!\\n\"],\n",
       " ['Ross: (mortified) Hi.\\n',\n",
       "  'Joey: This guy says hello, I wanna kill myself.\\n',\n",
       "  'Monica: Are you okay, sweetie?\\n',\n",
       "  'Ross: I just feel like someone reached down my throat, grabbed my small intestine, pulled it out of my mouth and tied it around my neck...\\n',\n",
       "  'Chandler: Cookie?\\n',\n",
       "  'Monica: (explaining to the others) Carol moved her stuff out today. \\n',\n",
       "  'Joey: Ohh.\\n',\n",
       "  'Monica: (to Ross) Let me get you some coffee.\\n',\n",
       "  'Ross: Thanks.\\n',\n",
       "  'Phoebe: Ooh! Oh! (She starts to pluck at the air just in front of Ross.)\\n',\n",
       "  \"Ross: No, no don't! Stop cleansing my aura! No, just leave my aura alone, okay?\\n\",\n",
       "  'Phoebe: Fine!\\xa0 Be murky!\\n',\n",
       "  \"Ross: I'll be fine, alright? Really, everyone. I hope she'll be very happy.\\n\",\n",
       "  \"Monica: No you don't.\\n\",\n",
       "  \"Ross: No I don't, to hell with her, she left me!\\n\",\n",
       "  'Joey: And you never knew she was a lesbian...\\n',\n",
       "  \"Ross: No!! Okay?! Why does everyone keep fixating on that? She didn't know, how should I know?\\n\",\n",
       "  'Chandler: Sometimes I wish I was a lesbian... (They all stare at him.) Did I say that out loud?\\n',\n",
       "  'Ross: I told mom and dad last night, they seemed to take it pretty well.\\n',\n",
       "  'Monica: Oh really, so that hysterical phone call I got from a woman at sobbing 3:00 A.M., \"I\\'ll never have grandchildren, I\\'ll never have grandchildren.\" was what?\\xa0 A wrong number?\\n',\n",
       "  'Ross: Sorry.\\n',\n",
       "  \"Joey: Alright Ross, look. You're feeling a lot of pain right now. You're angry. You're hurting. Can I tell you what the answer is?\\n\",\n",
       "  '(Ross gestures his consent.)\\n',\n",
       "  \"Joey: Strip joint! C'mon, you're single! Have some hormones!\\n\",\n",
       "  \"Ross: I don't want to be single, okay? I just... I just- I just wanna be married again!\\n\",\n",
       "  '(Rachel enters in a wet wedding dress and starts to search the room.)\\n',\n",
       "  'Chandler: And I just want a million dollars! (He extends his hand hopefully.)\\n',\n",
       "  'Monica: Rachel?!\\n',\n",
       "  \"Rachel: Oh God Monica hi! Thank God! I just went to your building and you weren't there and then this guy with a big hammer said you might be here and you are, you are!\\n\",\n",
       "  'Waitress: Can I get you some coffee?\\n',\n",
       "  'Monica: (pointing at Rachel) De-caff. (to All) Okay, everybody, this is Rachel, another Lincoln High survivor. (to Rachel) This is everybody, this is Chandler, and Phoebe, and Joey, and- you remember my brother Ross? \\n',\n",
       "  'Rachel: Hi, sure!\\n',\n",
       "  'Ross: Hi. \\n',\n",
       "  \"(They go to hug but Ross's umbrella opens.\\xa0 He sits back down defeated again.\\xa0 A moment of silence follows as Rachel sits and the others expect her to explain.)\\n\",\n",
       "  'Monica: So you wanna tell us now, or are we waiting for four wet bridesmaids?\\n'],\n",
       " [\"Monica: Who wasn't invited to the wedding.\\n\",\n",
       "  \"Rachel: Ooh, I was kinda hoping that wouldn't be an issue... \\n\"],\n",
       " [\"Monica: Now I'm guessing that he bought her the big pipe organ, and she's really not happy about it. \\n\",\n",
       "  'Chandler: (imitating the characters) Tuna or egg salad?\\xa0 Decide!\\n',\n",
       "  \"Ross: (in a deep voice) I'll have whatever Christine is having.\\n\",\n",
       "  \"Rachel: (on phone) Daddy, I just... I can't marry him! I'm sorry. I just don't love him. Well, it matters to me! \\n\",\n",
       "  '(The scene on TV has changed to show two women, one is holding her hair.)\\n',\n",
       "  'Phoebe:\\xa0 If I let go of my hair, my head will fall off. \\n',\n",
       "  'Chandler: (re TV) Ooh, she should not be wearing those pants. \\n',\n",
       "  'Joey: I say push her down the stairs. \\n',\n",
       "  'Phoebe, Ross, Chandler, and Joey:\\xa0 Push her down the stairs! Push her down the stairs! Push her down the stairs!\\n',\n",
       "  '(She is pushed down the stairs and everyone cheers.)\\n'],\n",
       " [\"Ross: You can see where he'd have trouble.\\n\",\n",
       "  \"Rachel: Look Daddy, it's my life. Well maybe I'll just stay here with Monica. \\n\",\n",
       "  \"Monica: Well, I guess we've established who's staying here with Monica...\\n\",\n",
       "  \"Rachel: Well, maybe that's my decision. Well, maybe I don't need your money. Wait!! Wait, I said maybe!!\\n\"],\n",
       " [\"Monica: Just breathe, breathe.. that's it. Just try to think of nice calm things...\\n\"],\n",
       " [\"Rachel: I'm all better now.\\n\",\n",
       "  'Phoebe: (grins and walks to the kitchen and says to Chandler and Joey.) I helped!\\n',\n",
       "  \"Monica: Okay, look, this is probably for the best, y'know? Independence. Taking control of your life.\\xa0 The whole, 'hat' thing.\\n\",\n",
       "  \"Joey: (comforting her) And hey, you need anything, you can always come to Joey. Me and Chandler live across the hall. And he's away a lot.\\n\",\n",
       "  \"Monica: Joey, stop hitting on her! It's her wedding day!\\n\",\n",
       "  \"Joey: What, like there's a rule or something?\\n\",\n",
       "  '(The door buzzer sounds and Chandler gets it.)\\n',\n",
       "  \"Chandler: Please don't do that again, it's a horrible sound.\\n\",\n",
       "  \"Paul: (over the intercom) It's, uh, it's Paul.\\n\",\n",
       "  'Monica: Oh God, is it 6:30?\\xa0 Buzz him in!\\n',\n",
       "  \"Joey: Who's Paul?\\n\",\n",
       "  'Ross: Paul the Wine Guy, Paul?\\n',\n",
       "  \"Monica: Maybe. Joey: Wait. Your 'not a real date' tonight is with Paul the Wine Guy?\\n\",\n",
       "  'Ross: He finally asked you out?\\n',\n",
       "  'Monica: Yes!\\n',\n",
       "  'Chandler: Ooh, this is a Dear Diary moment.\\n',\n",
       "  'Monica: Rach, wait, I can cancel...\\n',\n",
       "  \"Rachel: Please, no, go, that'd be fine!\\n\",\n",
       "  'Monica: (to Ross) Are, are you okay? I mean, do you want me to stay?\\n',\n",
       "  \"Ross: (choked voice) That'd be good...\\n\",\n",
       "  'Monica: (horrified) Really?\\n',\n",
       "  \"Ross: (normal voice) No, go on! It's Paul the Wine Guy!\\n\",\n",
       "  \"Phoebe: What does that mean? \\xa0 Does he sell it, drink it, or just complain a lot? (Chandler doesn't know.)\\n\",\n",
       "  \"(There's a knock on the door and it's Paul.)\\n\",\n",
       "  'Monica: Hi, come in! Paul, this is.. (They are all lined up next to the door.)... everybody, everybody, this is Paul.\\n',\n",
       "  'All: Hey! Paul! Hi! The Wine Guy! Hey!\\n',\n",
       "  \"Chandler: I'm sorry, I didn't catch your name. Paul, was it?\\n\",\n",
       "  \"Monica: Okay, umm-umm, I'll just--I'll be right back, I just gotta go ah, go ah...\\n\",\n",
       "  'Ross: A wandering?\\n',\n",
       "  'Monica: Change!\\xa0 Okay, sit down. (Shows Paul in) Two seconds.\\n',\n",
       "  \"Phoebe: Ooh, I just pulled out four eyelashes. That can't be good.\\n\",\n",
       "  '(Monica goes to change.)\\n',\n",
       "  'Joey:\\xa0 Hey, Paul!\\n',\n",
       "  'Paul: Yeah?\\n',\n",
       "  \"Joey: Here's a little tip, she really likes it when you rub her neck in the same spot over and over and over again until it starts to get a little red.\\n\",\n",
       "  'Monica: (yelling from the bedroom) Shut up, Joey!\\n',\n",
       "  \"Ross: So Rachel, what're you, uh... what're you up to tonight?\\n\",\n",
       "  'Rachel: Well, I was kinda supposed to be headed for Aruba on my honeymoon, so nothing!\\n'],\n",
       " [\"Chandler: (deadpan) Yes, and we're very excited about it. \\n\",\n",
       "  \"Rachel: Well actually thanks, but I think I'm just gonna hang out here tonight.\\xa0 It's been kinda a long day.\\n\",\n",
       "  'Ross: Okay, sure.\\n',\n",
       "  'Joey: Hey Pheebs, you wanna help?\\n',\n",
       "  \"Phoebe: Oh, I wish I could, but I don't want to.\\n\"],\n",
       " ['(Joey and Chandler are finishing assembling the bookcase.)\\n',\n",
       "  \"Joey: I'm thinking we've got a bookcase here.\\n\",\n",
       "  \"Chandler: It's a beautiful thing.\\n\",\n",
       "  \"Joey: (picking up a leftover part) What's this?\\n\",\n",
       "  \"Chandler: I would have to say that is an 'L'-shaped bracket.\\n\",\n",
       "  'Joey: Which goes where?\\n',\n",
       "  'Chandler: I have no idea.\\n',\n",
       "  '(Joey checks that Ross is not looking and dumps it in a plant.)\\n',\n",
       "  'Joey: Done with the bookcase!\\n',\n",
       "  'Chandler: All finished!\\n',\n",
       "  \"Ross: (clutching a beer can and sniffing) This was Carol's favorite beer. She always drank it out of the can, I should have known.\\n\",\n",
       "  \"Joey: Hey-hey-hey-hey, if you're gonna start with that stuff we're outta here.\\n\",\n",
       "  \"Chandler: Yes, please don't spoil all this fun.\\n\",\n",
       "  'Joey: Ross, let me ask you a question. She got the furniture, the stereo, the good TV- what did you get?\\n',\n",
       "  'Ross: You guys.\\n',\n",
       "  'Chandler: Oh, God.\\n',\n",
       "  'Joey: You got screwed.\\n',\n",
       "  'Chandler: Oh my God!\\n']]"
      ]
     },
     "execution_count": 131,
     "metadata": {},
     "output_type": "execute_result"
    }
   ],
   "source": [
    "dialogs[0:10]"
   ]
  },
  {
   "cell_type": "code",
   "execution_count": 132,
   "metadata": {},
   "outputs": [],
   "source": [
    "# делим каждый большой кусок на кусочки не длиннее 220 символов:\n",
    "ready_dialogs = []\n",
    "for dialog in dialogs:\n",
    "    small_dialog = []\n",
    "    lenn = 0\n",
    "    for el in dialog:\n",
    "        lenn += len(el)\n",
    "        if lenn < 220:\n",
    "            small_dialog.append(el)\n",
    "        else:\n",
    "            ready_dialogs.append(small_dialog)\n",
    "            small_dialog = []\n",
    "            small_dialog.append(el)\n",
    "            lenn = len(el)\n",
    "    if small_dialog not in ready_dialogs:\n",
    "        ready_dialogs.append(small_dialog)\n",
    "            \n",
    "            "
   ]
  },
  {
   "cell_type": "code",
   "execution_count": 133,
   "metadata": {},
   "outputs": [
    {
     "data": {
      "text/plain": [
       "23778"
      ]
     },
     "execution_count": 133,
     "metadata": {},
     "output_type": "execute_result"
    }
   ],
   "source": [
    "len(ready_dialogs)"
   ]
  },
  {
   "cell_type": "code",
   "execution_count": 67,
   "metadata": {},
   "outputs": [],
   "source": [
    "# # делим каждый кусок на кусочки по 3 реплики\n",
    "# ready_dialogs = []\n",
    "# for dialog in dialogs:\n",
    "#     small_dialog = []\n",
    "#     for el in dialog:\n",
    "#         if len(small_dialog) < 3:\n",
    "#             small_dialog.append(el)\n",
    "#         if len(small_dialog) == 3: # так пропадут некоторые куски диалогов,\n",
    "#             # но так как диалогов у нас полно, я не думаю, что это проблема. \n",
    "#             ready_dialogs.append(small_dialog)\n",
    "#             small_dialog = []\n",
    "        \n"
   ]
  },
  {
   "cell_type": "code",
   "execution_count": 135,
   "metadata": {},
   "outputs": [
    {
     "data": {
      "text/plain": [
       "23778"
      ]
     },
     "execution_count": 135,
     "metadata": {},
     "output_type": "execute_result"
    }
   ],
   "source": [
    "len(ready_dialogs) # столько маленьких диаложков"
   ]
  },
  {
   "cell_type": "code",
   "execution_count": 136,
   "metadata": {},
   "outputs": [
    {
     "name": "stdout",
     "output_type": "stream",
     "text": [
      "[\"Monica: There's nothing to tell! He's just some guy I work with!\\n\", \"Joey: C'mon, you're going out with the guy! There's gotta be something wrong with him!\\n\"]\n",
      "\n",
      "['Chandler: All right Joey, be nice.\\xa0 So does he have a hump? A hump and a hairpiece?\\n', 'Phoebe: Wait, does he eat chalk?\\n', '(They all stare, bemused.)\\n']\n",
      "\n",
      "[\"Phoebe: Just, 'cause, I don't want her to go through what I went through with Carl- oh!\\n\", \"Monica: Okay, everybody relax. This is not even a date. It's just two people going out to dinner and- not having sex.\\n\"]\n",
      "\n",
      "['Chandler: Sounds like a date to me.\\n']\n",
      "\n",
      "[\"Chandler: Alright, so I'm back in high school, I'm standing in the middle of the cafeteria, and I realize I am totally naked.\\n\", 'All: Oh, yeah. Had that dream.\\n']\n",
      "\n",
      "[\"Chandler: Then I look down, and I realize there's a phone... there.\\n\", 'Joey: Instead of...?\\n', \"Chandler: That's right.\\n\", 'Joey: Never had that dream.\\n', 'Phoebe: No.\\n']\n",
      "\n",
      "[\"Chandler: All of a sudden, the phone starts to ring. Now I don't know what to do, everybody starts looking at me. \\n\", \"Monica: And they weren't looking at you before?!\\n\"]\n",
      "\n",
      "[\"Chandler: Finally, I figure I'd better answer it, and it turns out it's my mother, which is very-very weird, because- she never calls me!\\n\"]\n",
      "\n",
      "['Ross: (mortified) Hi.\\n', 'Joey: This guy says hello, I wanna kill myself.\\n', 'Monica: Are you okay, sweetie?\\n']\n",
      "\n",
      "['Ross: I just feel like someone reached down my throat, grabbed my small intestine, pulled it out of my mouth and tied it around my neck...\\n', 'Chandler: Cookie?\\n']\n",
      "\n",
      "['Monica: (explaining to the others) Carol moved her stuff out today. \\n', 'Joey: Ohh.\\n', 'Monica: (to Ross) Let me get you some coffee.\\n', 'Ross: Thanks.\\n', 'Phoebe: Ooh! Oh! (She starts to pluck at the air just in front of Ross.)\\n']\n",
      "\n",
      "[\"Ross: No, no don't! Stop cleansing my aura! No, just leave my aura alone, okay?\\n\", 'Phoebe: Fine!\\xa0 Be murky!\\n', \"Ross: I'll be fine, alright? Really, everyone. I hope she'll be very happy.\\n\", \"Monica: No you don't.\\n\"]\n",
      "\n",
      "[\"Ross: No I don't, to hell with her, she left me!\\n\", 'Joey: And you never knew she was a lesbian...\\n', \"Ross: No!! Okay?! Why does everyone keep fixating on that? She didn't know, how should I know?\\n\"]\n",
      "\n",
      "['Chandler: Sometimes I wish I was a lesbian... (They all stare at him.) Did I say that out loud?\\n', 'Ross: I told mom and dad last night, they seemed to take it pretty well.\\n']\n",
      "\n",
      "['Monica: Oh really, so that hysterical phone call I got from a woman at sobbing 3:00 A.M., \"I\\'ll never have grandchildren, I\\'ll never have grandchildren.\" was what?\\xa0 A wrong number?\\n', 'Ross: Sorry.\\n']\n",
      "\n",
      "[\"Joey: Alright Ross, look. You're feeling a lot of pain right now. You're angry. You're hurting. Can I tell you what the answer is?\\n\", '(Ross gestures his consent.)\\n']\n",
      "\n",
      "[\"Joey: Strip joint! C'mon, you're single! Have some hormones!\\n\", \"Ross: I don't want to be single, okay? I just... I just- I just wanna be married again!\\n\", '(Rachel enters in a wet wedding dress and starts to search the room.)\\n']\n",
      "\n",
      "['Chandler: And I just want a million dollars! (He extends his hand hopefully.)\\n', 'Monica: Rachel?!\\n']\n",
      "\n",
      "[\"Rachel: Oh God Monica hi! Thank God! I just went to your building and you weren't there and then this guy with a big hammer said you might be here and you are, you are!\\n\", 'Waitress: Can I get you some coffee?\\n']\n",
      "\n",
      "['Monica: (pointing at Rachel) De-caff. (to All) Okay, everybody, this is Rachel, another Lincoln High survivor. (to Rachel) This is everybody, this is Chandler, and Phoebe, and Joey, and- you remember my brother Ross? \\n']\n",
      "\n",
      "['Rachel: Hi, sure!\\n', 'Ross: Hi. \\n', \"(They go to hug but Ross's umbrella opens.\\xa0 He sits back down defeated again.\\xa0 A moment of silence follows as Rachel sits and the others expect her to explain.)\\n\"]\n",
      "\n",
      "['Monica: So you wanna tell us now, or are we waiting for four wet bridesmaids?\\n']\n",
      "\n",
      "[\"Monica: Who wasn't invited to the wedding.\\n\", \"Rachel: Ooh, I was kinda hoping that wouldn't be an issue... \\n\"]\n",
      "\n",
      "[\"Monica: Now I'm guessing that he bought her the big pipe organ, and she's really not happy about it. \\n\", 'Chandler: (imitating the characters) Tuna or egg salad?\\xa0 Decide!\\n']\n",
      "\n",
      "[\"Ross: (in a deep voice) I'll have whatever Christine is having.\\n\", \"Rachel: (on phone) Daddy, I just... I can't marry him! I'm sorry. I just don't love him. Well, it matters to me! \\n\"]\n",
      "\n",
      "['(The scene on TV has changed to show two women, one is holding her hair.)\\n', 'Phoebe:\\xa0 If I let go of my hair, my head will fall off. \\n', 'Chandler: (re TV) Ooh, she should not be wearing those pants. \\n']\n",
      "\n",
      "['Joey: I say push her down the stairs. \\n', 'Phoebe, Ross, Chandler, and Joey:\\xa0 Push her down the stairs! Push her down the stairs! Push her down the stairs!\\n', '(She is pushed down the stairs and everyone cheers.)\\n']\n",
      "\n",
      "[\"Ross: You can see where he'd have trouble.\\n\", \"Rachel: Look Daddy, it's my life. Well maybe I'll just stay here with Monica. \\n\", \"Monica: Well, I guess we've established who's staying here with Monica...\\n\"]\n",
      "\n",
      "[\"Rachel: Well, maybe that's my decision. Well, maybe I don't need your money. Wait!! Wait, I said maybe!!\\n\"]\n",
      "\n",
      "[\"Monica: Just breathe, breathe.. that's it. Just try to think of nice calm things...\\n\"]\n",
      "\n"
     ]
    }
   ],
   "source": [
    "# смотрим, что получилось\n",
    "for el in ready_dialogs[0:30]:\n",
    "    print(el)\n",
    "    print()"
   ]
  },
  {
   "cell_type": "markdown",
   "metadata": {},
   "source": [
    "Распаковка list to str:"
   ]
  },
  {
   "cell_type": "code",
   "execution_count": 78,
   "metadata": {},
   "outputs": [
    {
     "data": {
      "text/plain": [
       "['Ross: (mortified) Hi.\\n',\n",
       " 'Joey: This guy says hello, I wanna kill myself.\\n',\n",
       " 'Monica: Are you okay, sweetie?\\n']"
      ]
     },
     "execution_count": 78,
     "metadata": {},
     "output_type": "execute_result"
    }
   ],
   "source": [
    "my_list = ready_dialogs[5]\n",
    "my_list"
   ]
  },
  {
   "cell_type": "code",
   "execution_count": 81,
   "metadata": {},
   "outputs": [
    {
     "name": "stdout",
     "output_type": "stream",
     "text": [
      "Ross: (mortified) Hi.\n",
      "Joey: This guy says hello, I wanna kill myself.\n",
      "Monica: Are you okay, sweetie?\n",
      "\n"
     ]
    }
   ],
   "source": [
    "my_str = \"\\n\".join(my_list) # добавляем пустую строку на тот случай, если где-то в диалогах она не стоит в конце реплики\n",
    "my_str = my_str.replace('\\n\\n', '\\n') # заменяем получившиеся двойные переносы строк одинарными\n",
    "print(my_str)"
   ]
  },
  {
   "cell_type": "code",
   "execution_count": 140,
   "metadata": {},
   "outputs": [
    {
     "data": {
      "text/plain": [
       "[\"Rachel: Well, maybe that's my decision. Well, maybe I don't need your money. Wait!! Wait, I said maybe!!\\n\"]"
      ]
     },
     "execution_count": 140,
     "metadata": {},
     "output_type": "execute_result"
    }
   ],
   "source": [
    "a = \"Rachel: Well, maybe that's my decision. Well, maybe I don't need your money. Wait!! Wait, I said maybe!!\\n\"\n",
    "a.split('.!')"
   ]
  },
  {
   "cell_type": "code",
   "execution_count": 141,
   "metadata": {},
   "outputs": [
    {
     "name": "stdout",
     "output_type": "stream",
     "text": [
      "['Rachel:', 'Well,', 'maybe', \"that's\", 'my', 'decision.']\n"
     ]
    }
   ],
   "source": [
    "a = str(['Rachel:', 'Well,',  'maybe',  \"that's\",  'my',  'decision.'])\n",
    "print(a)"
   ]
  },
  {
   "cell_type": "code",
   "execution_count": 163,
   "metadata": {},
   "outputs": [
    {
     "name": "stdout",
     "output_type": "stream",
     "text": [
      "<class 'str'>\n"
     ]
    },
    {
     "data": {
      "text/plain": [
       "[\"Rachel:'\", \" 'Well\", \"'\", \" 'maybe'\", ' \"that\\'s\"', \" 'my'\", \" 'decision.\"]"
      ]
     },
     "execution_count": 163,
     "metadata": {},
     "output_type": "execute_result"
    }
   ],
   "source": [
    "print(type(a))\n",
    "a = a[1:-1]\n",
    "a.split(',')\n"
   ]
  },
  {
   "cell_type": "code",
   "execution_count": 144,
   "metadata": {},
   "outputs": [],
   "source": [
    "import numpy as np"
   ]
  },
  {
   "cell_type": "code",
   "execution_count": 153,
   "metadata": {},
   "outputs": [
    {
     "data": {
      "text/plain": [
       "\"'\""
      ]
     },
     "execution_count": 153,
     "metadata": {},
     "output_type": "execute_result"
    }
   ],
   "source": [
    "a[-2]"
   ]
  },
  {
   "cell_type": "code",
   "execution_count": null,
   "metadata": {},
   "outputs": [],
   "source": []
  },
  {
   "cell_type": "code",
   "execution_count": 161,
   "metadata": {},
   "outputs": [
    {
     "ename": "ValueError",
     "evalue": "zero-valued itemsize",
     "output_type": "error",
     "traceback": [
      "\u001b[1;31m---------------------------------------------------------------------------\u001b[0m",
      "\u001b[1;31mValueError\u001b[0m                                Traceback (most recent call last)",
      "\u001b[1;32m<ipython-input-161-052b4bf8f7e2>\u001b[0m in \u001b[0;36m<module>\u001b[1;34m\u001b[0m\n\u001b[1;32m----> 1\u001b[1;33m \u001b[0mprint\u001b[0m\u001b[1;33m(\u001b[0m\u001b[0mnp\u001b[0m\u001b[1;33m.\u001b[0m\u001b[0mfromstring\u001b[0m\u001b[1;33m(\u001b[0m\u001b[0ma\u001b[0m\u001b[1;33m[\u001b[0m\u001b[1;36m1\u001b[0m\u001b[1;33m:\u001b[0m\u001b[1;33m-\u001b[0m\u001b[1;36m1\u001b[0m\u001b[1;33m]\u001b[0m\u001b[1;33m,\u001b[0m \u001b[0mdtype\u001b[0m \u001b[1;33m=\u001b[0m\u001b[0mstr\u001b[0m\u001b[1;33m,\u001b[0m \u001b[0msep\u001b[0m \u001b[1;33m=\u001b[0m \u001b[1;34m' '\u001b[0m\u001b[1;33m)\u001b[0m\u001b[1;33m)\u001b[0m\u001b[1;33m\u001b[0m\u001b[1;33m\u001b[0m\u001b[0m\n\u001b[0m",
      "\u001b[1;31mValueError\u001b[0m: zero-valued itemsize"
     ]
    }
   ],
   "source": [
    "print(np.fromstring(a[1:-1], dtype =str, sep = ' '))"
   ]
  },
  {
   "cell_type": "code",
   "execution_count": null,
   "metadata": {},
   "outputs": [],
   "source": [
    "#от каждой строки отрезаем крайние квадратные скобки. если не отрежем, fromstring выдает пустой аррей\n",
    "df1_from_csv.vectors = df1_from_csv.vectors.apply(lambda x: np.fromstring(x[2:-2], sep=' '))"
   ]
  },
  {
   "cell_type": "code",
   "execution_count": null,
   "metadata": {},
   "outputs": [],
   "source": []
  },
  {
   "cell_type": "code",
   "execution_count": null,
   "metadata": {},
   "outputs": [],
   "source": []
  }
 ],
 "metadata": {
  "kernelspec": {
   "display_name": "Python 3",
   "language": "python",
   "name": "python3"
  },
  "language_info": {
   "codemirror_mode": {
    "name": "ipython",
    "version": 3
   },
   "file_extension": ".py",
   "mimetype": "text/x-python",
   "name": "python",
   "nbconvert_exporter": "python",
   "pygments_lexer": "ipython3",
   "version": "3.6.8"
  }
 },
 "nbformat": 4,
 "nbformat_minor": 2
}
